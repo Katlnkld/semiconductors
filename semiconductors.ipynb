{
 "cells": [
  {
   "cell_type": "code",
   "execution_count": 1,
   "metadata": {},
   "outputs": [],
   "source": [
    "import pandas as pd\n",
    "from sklearn import preprocessing\n",
    "import numpy as np\n",
    "import matplotlib.pyplot as plt\n",
    "import seaborn as sns\n",
    "from sklearn.metrics import r2_score\n",
    "\n",
    "from sklearn.ensemble import RandomForestClassifier\n",
    "\n",
    "from sklearn.model_selection import GridSearchCV, train_test_split, cross_val_score, RandomizedSearchCV\n",
    "from xgboost import XGBRegressor\n",
    "\n",
    "from sklearn.linear_model import ElasticNetCV, ElasticNet\n",
    "\n",
    "import warnings\n",
    "warnings.filterwarnings('ignore')"
   ]
  },
  {
   "cell_type": "code",
   "execution_count": 2,
   "metadata": {},
   "outputs": [
    {
     "data": {
      "text/html": [
       "<div>\n",
       "<style scoped>\n",
       "    .dataframe tbody tr th:only-of-type {\n",
       "        vertical-align: middle;\n",
       "    }\n",
       "\n",
       "    .dataframe tbody tr th {\n",
       "        vertical-align: top;\n",
       "    }\n",
       "\n",
       "    .dataframe thead th {\n",
       "        text-align: right;\n",
       "    }\n",
       "</style>\n",
       "<table border=\"1\" class=\"dataframe\">\n",
       "  <thead>\n",
       "    <tr style=\"text-align: right;\">\n",
       "      <th></th>\n",
       "      <th>feature1</th>\n",
       "      <th>feature2</th>\n",
       "      <th>feature3</th>\n",
       "      <th>feature4</th>\n",
       "      <th>feature5</th>\n",
       "      <th>feature6</th>\n",
       "      <th>feature7</th>\n",
       "      <th>feature8</th>\n",
       "      <th>feature9</th>\n",
       "      <th>feature10</th>\n",
       "      <th>...</th>\n",
       "      <th>feature73</th>\n",
       "      <th>feature74</th>\n",
       "      <th>feature75</th>\n",
       "      <th>feature76</th>\n",
       "      <th>feature77</th>\n",
       "      <th>feature78</th>\n",
       "      <th>feature79</th>\n",
       "      <th>feature80</th>\n",
       "      <th>feature81</th>\n",
       "      <th>critical_temperature</th>\n",
       "    </tr>\n",
       "  </thead>\n",
       "  <tbody>\n",
       "    <tr>\n",
       "      <td>0</td>\n",
       "      <td>4</td>\n",
       "      <td>95.950150</td>\n",
       "      <td>87.221940</td>\n",
       "      <td>89.534122</td>\n",
       "      <td>81.423258</td>\n",
       "      <td>1.317590</td>\n",
       "      <td>1.301059</td>\n",
       "      <td>96.1190</td>\n",
       "      <td>20.285800</td>\n",
       "      <td>36.105357</td>\n",
       "      <td>...</td>\n",
       "      <td>4.10</td>\n",
       "      <td>4.053600</td>\n",
       "      <td>3.944244</td>\n",
       "      <td>1.339718</td>\n",
       "      <td>1.245504</td>\n",
       "      <td>3</td>\n",
       "      <td>1.400000</td>\n",
       "      <td>1.299038</td>\n",
       "      <td>1.135782</td>\n",
       "      <td>21.50</td>\n",
       "    </tr>\n",
       "    <tr>\n",
       "      <td>1</td>\n",
       "      <td>5</td>\n",
       "      <td>83.244760</td>\n",
       "      <td>59.224400</td>\n",
       "      <td>59.506081</td>\n",
       "      <td>36.126175</td>\n",
       "      <td>1.311510</td>\n",
       "      <td>1.372050</td>\n",
       "      <td>192.9810</td>\n",
       "      <td>25.192187</td>\n",
       "      <td>67.233835</td>\n",
       "      <td>...</td>\n",
       "      <td>2.40</td>\n",
       "      <td>2.402249</td>\n",
       "      <td>2.259897</td>\n",
       "      <td>1.519383</td>\n",
       "      <td>1.365077</td>\n",
       "      <td>3</td>\n",
       "      <td>0.933333</td>\n",
       "      <td>1.200000</td>\n",
       "      <td>1.019804</td>\n",
       "      <td>62.00</td>\n",
       "    </tr>\n",
       "    <tr>\n",
       "      <td>2</td>\n",
       "      <td>2</td>\n",
       "      <td>23.035850</td>\n",
       "      <td>26.647510</td>\n",
       "      <td>21.192566</td>\n",
       "      <td>25.010514</td>\n",
       "      <td>0.614232</td>\n",
       "      <td>0.435817</td>\n",
       "      <td>18.0583</td>\n",
       "      <td>18.243490</td>\n",
       "      <td>9.029150</td>\n",
       "      <td>...</td>\n",
       "      <td>5.10</td>\n",
       "      <td>4.242641</td>\n",
       "      <td>4.873514</td>\n",
       "      <td>0.636514</td>\n",
       "      <td>0.465999</td>\n",
       "      <td>3</td>\n",
       "      <td>3.300000</td>\n",
       "      <td>1.500000</td>\n",
       "      <td>1.374773</td>\n",
       "      <td>0.29</td>\n",
       "    </tr>\n",
       "    <tr>\n",
       "      <td>3</td>\n",
       "      <td>4</td>\n",
       "      <td>81.756699</td>\n",
       "      <td>79.833804</td>\n",
       "      <td>76.282833</td>\n",
       "      <td>75.275775</td>\n",
       "      <td>1.312596</td>\n",
       "      <td>1.149324</td>\n",
       "      <td>81.4820</td>\n",
       "      <td>28.789976</td>\n",
       "      <td>32.890369</td>\n",
       "      <td>...</td>\n",
       "      <td>3.62</td>\n",
       "      <td>3.309751</td>\n",
       "      <td>3.413039</td>\n",
       "      <td>1.333736</td>\n",
       "      <td>1.019322</td>\n",
       "      <td>3</td>\n",
       "      <td>1.920000</td>\n",
       "      <td>1.118034</td>\n",
       "      <td>1.198165</td>\n",
       "      <td>19.50</td>\n",
       "    </tr>\n",
       "    <tr>\n",
       "      <td>4</td>\n",
       "      <td>2</td>\n",
       "      <td>67.485250</td>\n",
       "      <td>69.699016</td>\n",
       "      <td>57.442709</td>\n",
       "      <td>59.574464</td>\n",
       "      <td>0.548263</td>\n",
       "      <td>0.521345</td>\n",
       "      <td>70.8405</td>\n",
       "      <td>39.638078</td>\n",
       "      <td>35.420250</td>\n",
       "      <td>...</td>\n",
       "      <td>6.00</td>\n",
       "      <td>6.000000</td>\n",
       "      <td>6.000000</td>\n",
       "      <td>0.693147</td>\n",
       "      <td>0.691193</td>\n",
       "      <td>0</td>\n",
       "      <td>0.375000</td>\n",
       "      <td>0.000000</td>\n",
       "      <td>0.000000</td>\n",
       "      <td>5.36</td>\n",
       "    </tr>\n",
       "  </tbody>\n",
       "</table>\n",
       "<p>5 rows × 82 columns</p>\n",
       "</div>"
      ],
      "text/plain": [
       "   feature1   feature2   feature3   feature4   feature5  feature6  feature7  \\\n",
       "0         4  95.950150  87.221940  89.534122  81.423258  1.317590  1.301059   \n",
       "1         5  83.244760  59.224400  59.506081  36.126175  1.311510  1.372050   \n",
       "2         2  23.035850  26.647510  21.192566  25.010514  0.614232  0.435817   \n",
       "3         4  81.756699  79.833804  76.282833  75.275775  1.312596  1.149324   \n",
       "4         2  67.485250  69.699016  57.442709  59.574464  0.548263  0.521345   \n",
       "\n",
       "   feature8   feature9  feature10  ...  feature73  feature74  feature75  \\\n",
       "0   96.1190  20.285800  36.105357  ...       4.10   4.053600   3.944244   \n",
       "1  192.9810  25.192187  67.233835  ...       2.40   2.402249   2.259897   \n",
       "2   18.0583  18.243490   9.029150  ...       5.10   4.242641   4.873514   \n",
       "3   81.4820  28.789976  32.890369  ...       3.62   3.309751   3.413039   \n",
       "4   70.8405  39.638078  35.420250  ...       6.00   6.000000   6.000000   \n",
       "\n",
       "   feature76  feature77  feature78  feature79  feature80  feature81  \\\n",
       "0   1.339718   1.245504          3   1.400000   1.299038   1.135782   \n",
       "1   1.519383   1.365077          3   0.933333   1.200000   1.019804   \n",
       "2   0.636514   0.465999          3   3.300000   1.500000   1.374773   \n",
       "3   1.333736   1.019322          3   1.920000   1.118034   1.198165   \n",
       "4   0.693147   0.691193          0   0.375000   0.000000   0.000000   \n",
       "\n",
       "   critical_temperature  \n",
       "0                 21.50  \n",
       "1                 62.00  \n",
       "2                  0.29  \n",
       "3                 19.50  \n",
       "4                  5.36  \n",
       "\n",
       "[5 rows x 82 columns]"
      ]
     },
     "execution_count": 2,
     "metadata": {},
     "output_type": "execute_result"
    }
   ],
   "source": [
    "train = pd.read_csv('train.csv')\n",
    "train.head(5)"
   ]
  },
  {
   "cell_type": "code",
   "execution_count": 3,
   "metadata": {},
   "outputs": [],
   "source": [
    "test = pd.read_csv('test.csv')"
   ]
  },
  {
   "cell_type": "code",
   "execution_count": 4,
   "metadata": {},
   "outputs": [
    {
     "data": {
      "text/html": [
       "<div>\n",
       "<style scoped>\n",
       "    .dataframe tbody tr th:only-of-type {\n",
       "        vertical-align: middle;\n",
       "    }\n",
       "\n",
       "    .dataframe tbody tr th {\n",
       "        vertical-align: top;\n",
       "    }\n",
       "\n",
       "    .dataframe thead th {\n",
       "        text-align: right;\n",
       "    }\n",
       "</style>\n",
       "<table border=\"1\" class=\"dataframe\">\n",
       "  <thead>\n",
       "    <tr style=\"text-align: right;\">\n",
       "      <th></th>\n",
       "      <th>H</th>\n",
       "      <th>He</th>\n",
       "      <th>Li</th>\n",
       "      <th>Be</th>\n",
       "      <th>B</th>\n",
       "      <th>C</th>\n",
       "      <th>N</th>\n",
       "      <th>O</th>\n",
       "      <th>F</th>\n",
       "      <th>Ne</th>\n",
       "      <th>...</th>\n",
       "      <th>Pt</th>\n",
       "      <th>Au</th>\n",
       "      <th>Hg</th>\n",
       "      <th>Tl</th>\n",
       "      <th>Pb</th>\n",
       "      <th>Bi</th>\n",
       "      <th>Po</th>\n",
       "      <th>At</th>\n",
       "      <th>Rn</th>\n",
       "      <th>material</th>\n",
       "    </tr>\n",
       "  </thead>\n",
       "  <tbody>\n",
       "    <tr>\n",
       "      <td>0</td>\n",
       "      <td>0.0</td>\n",
       "      <td>0</td>\n",
       "      <td>0.0</td>\n",
       "      <td>0.0</td>\n",
       "      <td>0.0</td>\n",
       "      <td>0.0</td>\n",
       "      <td>0.0</td>\n",
       "      <td>0.0</td>\n",
       "      <td>0.0</td>\n",
       "      <td>0</td>\n",
       "      <td>...</td>\n",
       "      <td>0.0</td>\n",
       "      <td>0.0</td>\n",
       "      <td>0.0</td>\n",
       "      <td>0.0</td>\n",
       "      <td>0.0</td>\n",
       "      <td>0.0</td>\n",
       "      <td>0</td>\n",
       "      <td>0</td>\n",
       "      <td>0</td>\n",
       "      <td>Eu1Fe1.5Ru0.5As2</td>\n",
       "    </tr>\n",
       "    <tr>\n",
       "      <td>1</td>\n",
       "      <td>0.0</td>\n",
       "      <td>0</td>\n",
       "      <td>0.0</td>\n",
       "      <td>0.0</td>\n",
       "      <td>0.0</td>\n",
       "      <td>0.0</td>\n",
       "      <td>0.0</td>\n",
       "      <td>8.0</td>\n",
       "      <td>0.0</td>\n",
       "      <td>0</td>\n",
       "      <td>...</td>\n",
       "      <td>0.0</td>\n",
       "      <td>0.0</td>\n",
       "      <td>0.0</td>\n",
       "      <td>0.0</td>\n",
       "      <td>0.0</td>\n",
       "      <td>2.0</td>\n",
       "      <td>0</td>\n",
       "      <td>0</td>\n",
       "      <td>0</td>\n",
       "      <td>Bi2Sr2Ca1Cu2O8</td>\n",
       "    </tr>\n",
       "    <tr>\n",
       "      <td>2</td>\n",
       "      <td>0.0</td>\n",
       "      <td>0</td>\n",
       "      <td>0.0</td>\n",
       "      <td>0.0</td>\n",
       "      <td>0.0</td>\n",
       "      <td>0.0</td>\n",
       "      <td>0.3</td>\n",
       "      <td>0.0</td>\n",
       "      <td>0.0</td>\n",
       "      <td>0</td>\n",
       "      <td>...</td>\n",
       "      <td>0.0</td>\n",
       "      <td>0.0</td>\n",
       "      <td>0.0</td>\n",
       "      <td>0.0</td>\n",
       "      <td>0.0</td>\n",
       "      <td>0.0</td>\n",
       "      <td>0</td>\n",
       "      <td>0</td>\n",
       "      <td>0</td>\n",
       "      <td>N0.3S0.7</td>\n",
       "    </tr>\n",
       "    <tr>\n",
       "      <td>3</td>\n",
       "      <td>0.0</td>\n",
       "      <td>0</td>\n",
       "      <td>0.0</td>\n",
       "      <td>0.0</td>\n",
       "      <td>0.0</td>\n",
       "      <td>0.0</td>\n",
       "      <td>0.0</td>\n",
       "      <td>0.0</td>\n",
       "      <td>0.0</td>\n",
       "      <td>0</td>\n",
       "      <td>...</td>\n",
       "      <td>0.0</td>\n",
       "      <td>0.0</td>\n",
       "      <td>0.0</td>\n",
       "      <td>0.0</td>\n",
       "      <td>0.0</td>\n",
       "      <td>0.0</td>\n",
       "      <td>0</td>\n",
       "      <td>0</td>\n",
       "      <td>0</td>\n",
       "      <td>Ba1Fe1.9Co0.1As2</td>\n",
       "    </tr>\n",
       "    <tr>\n",
       "      <td>4</td>\n",
       "      <td>0.0</td>\n",
       "      <td>0</td>\n",
       "      <td>0.0</td>\n",
       "      <td>0.0</td>\n",
       "      <td>0.0</td>\n",
       "      <td>0.0</td>\n",
       "      <td>0.0</td>\n",
       "      <td>0.0</td>\n",
       "      <td>0.0</td>\n",
       "      <td>0</td>\n",
       "      <td>...</td>\n",
       "      <td>0.0</td>\n",
       "      <td>0.0</td>\n",
       "      <td>0.0</td>\n",
       "      <td>0.0</td>\n",
       "      <td>0.0</td>\n",
       "      <td>0.0</td>\n",
       "      <td>0</td>\n",
       "      <td>0</td>\n",
       "      <td>0</td>\n",
       "      <td>Rh17S15</td>\n",
       "    </tr>\n",
       "  </tbody>\n",
       "</table>\n",
       "<p>5 rows × 87 columns</p>\n",
       "</div>"
      ],
      "text/plain": [
       "     H  He   Li   Be    B    C    N    O    F  Ne  ...   Pt   Au   Hg   Tl  \\\n",
       "0  0.0   0  0.0  0.0  0.0  0.0  0.0  0.0  0.0   0  ...  0.0  0.0  0.0  0.0   \n",
       "1  0.0   0  0.0  0.0  0.0  0.0  0.0  8.0  0.0   0  ...  0.0  0.0  0.0  0.0   \n",
       "2  0.0   0  0.0  0.0  0.0  0.0  0.3  0.0  0.0   0  ...  0.0  0.0  0.0  0.0   \n",
       "3  0.0   0  0.0  0.0  0.0  0.0  0.0  0.0  0.0   0  ...  0.0  0.0  0.0  0.0   \n",
       "4  0.0   0  0.0  0.0  0.0  0.0  0.0  0.0  0.0   0  ...  0.0  0.0  0.0  0.0   \n",
       "\n",
       "    Pb   Bi  Po  At  Rn          material  \n",
       "0  0.0  0.0   0   0   0  Eu1Fe1.5Ru0.5As2  \n",
       "1  0.0  2.0   0   0   0    Bi2Sr2Ca1Cu2O8  \n",
       "2  0.0  0.0   0   0   0          N0.3S0.7  \n",
       "3  0.0  0.0   0   0   0  Ba1Fe1.9Co0.1As2  \n",
       "4  0.0  0.0   0   0   0           Rh17S15  \n",
       "\n",
       "[5 rows x 87 columns]"
      ]
     },
     "execution_count": 4,
     "metadata": {},
     "output_type": "execute_result"
    }
   ],
   "source": [
    "formula_train = pd.read_csv('formula_train.csv')\n",
    "formula_train.head(5)"
   ]
  },
  {
   "cell_type": "code",
   "execution_count": 5,
   "metadata": {},
   "outputs": [],
   "source": [
    "formula_test = pd.read_csv('formula_test.csv')"
   ]
  },
  {
   "cell_type": "code",
   "execution_count": 6,
   "metadata": {},
   "outputs": [],
   "source": [
    "data_train = pd.concat([train, formula_train.drop('material', axis=1)], axis=1)"
   ]
  },
  {
   "cell_type": "code",
   "execution_count": 7,
   "metadata": {},
   "outputs": [],
   "source": [
    "data_test = pd.concat([test, formula_test.drop('material', axis=1)], axis=1)"
   ]
  },
  {
   "cell_type": "code",
   "execution_count": 8,
   "metadata": {},
   "outputs": [],
   "source": [
    "Y = data_train.critical_temperature"
   ]
  },
  {
   "cell_type": "code",
   "execution_count": 9,
   "metadata": {},
   "outputs": [
    {
     "data": {
      "text/html": [
       "<div>\n",
       "<style scoped>\n",
       "    .dataframe tbody tr th:only-of-type {\n",
       "        vertical-align: middle;\n",
       "    }\n",
       "\n",
       "    .dataframe tbody tr th {\n",
       "        vertical-align: top;\n",
       "    }\n",
       "\n",
       "    .dataframe thead th {\n",
       "        text-align: right;\n",
       "    }\n",
       "</style>\n",
       "<table border=\"1\" class=\"dataframe\">\n",
       "  <thead>\n",
       "    <tr style=\"text-align: right;\">\n",
       "      <th></th>\n",
       "      <th>feature1</th>\n",
       "      <th>feature2</th>\n",
       "      <th>feature3</th>\n",
       "      <th>feature4</th>\n",
       "      <th>feature5</th>\n",
       "      <th>feature6</th>\n",
       "      <th>feature7</th>\n",
       "      <th>feature8</th>\n",
       "      <th>feature9</th>\n",
       "      <th>feature10</th>\n",
       "      <th>...</th>\n",
       "      <th>Ir</th>\n",
       "      <th>Pt</th>\n",
       "      <th>Au</th>\n",
       "      <th>Hg</th>\n",
       "      <th>Tl</th>\n",
       "      <th>Pb</th>\n",
       "      <th>Bi</th>\n",
       "      <th>Po</th>\n",
       "      <th>At</th>\n",
       "      <th>Rn</th>\n",
       "    </tr>\n",
       "  </thead>\n",
       "  <tbody>\n",
       "    <tr>\n",
       "      <td>0</td>\n",
       "      <td>4</td>\n",
       "      <td>95.950150</td>\n",
       "      <td>87.221940</td>\n",
       "      <td>89.534122</td>\n",
       "      <td>81.423258</td>\n",
       "      <td>1.317590</td>\n",
       "      <td>1.301059</td>\n",
       "      <td>96.1190</td>\n",
       "      <td>20.285800</td>\n",
       "      <td>36.105357</td>\n",
       "      <td>...</td>\n",
       "      <td>0.0</td>\n",
       "      <td>0.0</td>\n",
       "      <td>0.0</td>\n",
       "      <td>0.0</td>\n",
       "      <td>0.0</td>\n",
       "      <td>0.0</td>\n",
       "      <td>0.0</td>\n",
       "      <td>0</td>\n",
       "      <td>0</td>\n",
       "      <td>0</td>\n",
       "    </tr>\n",
       "    <tr>\n",
       "      <td>1</td>\n",
       "      <td>5</td>\n",
       "      <td>83.244760</td>\n",
       "      <td>59.224400</td>\n",
       "      <td>59.506081</td>\n",
       "      <td>36.126175</td>\n",
       "      <td>1.311510</td>\n",
       "      <td>1.372050</td>\n",
       "      <td>192.9810</td>\n",
       "      <td>25.192187</td>\n",
       "      <td>67.233835</td>\n",
       "      <td>...</td>\n",
       "      <td>0.0</td>\n",
       "      <td>0.0</td>\n",
       "      <td>0.0</td>\n",
       "      <td>0.0</td>\n",
       "      <td>0.0</td>\n",
       "      <td>0.0</td>\n",
       "      <td>2.0</td>\n",
       "      <td>0</td>\n",
       "      <td>0</td>\n",
       "      <td>0</td>\n",
       "    </tr>\n",
       "    <tr>\n",
       "      <td>2</td>\n",
       "      <td>2</td>\n",
       "      <td>23.035850</td>\n",
       "      <td>26.647510</td>\n",
       "      <td>21.192566</td>\n",
       "      <td>25.010514</td>\n",
       "      <td>0.614232</td>\n",
       "      <td>0.435817</td>\n",
       "      <td>18.0583</td>\n",
       "      <td>18.243490</td>\n",
       "      <td>9.029150</td>\n",
       "      <td>...</td>\n",
       "      <td>0.0</td>\n",
       "      <td>0.0</td>\n",
       "      <td>0.0</td>\n",
       "      <td>0.0</td>\n",
       "      <td>0.0</td>\n",
       "      <td>0.0</td>\n",
       "      <td>0.0</td>\n",
       "      <td>0</td>\n",
       "      <td>0</td>\n",
       "      <td>0</td>\n",
       "    </tr>\n",
       "    <tr>\n",
       "      <td>3</td>\n",
       "      <td>4</td>\n",
       "      <td>81.756699</td>\n",
       "      <td>79.833804</td>\n",
       "      <td>76.282833</td>\n",
       "      <td>75.275775</td>\n",
       "      <td>1.312596</td>\n",
       "      <td>1.149324</td>\n",
       "      <td>81.4820</td>\n",
       "      <td>28.789976</td>\n",
       "      <td>32.890369</td>\n",
       "      <td>...</td>\n",
       "      <td>0.0</td>\n",
       "      <td>0.0</td>\n",
       "      <td>0.0</td>\n",
       "      <td>0.0</td>\n",
       "      <td>0.0</td>\n",
       "      <td>0.0</td>\n",
       "      <td>0.0</td>\n",
       "      <td>0</td>\n",
       "      <td>0</td>\n",
       "      <td>0</td>\n",
       "    </tr>\n",
       "    <tr>\n",
       "      <td>4</td>\n",
       "      <td>2</td>\n",
       "      <td>67.485250</td>\n",
       "      <td>69.699016</td>\n",
       "      <td>57.442709</td>\n",
       "      <td>59.574464</td>\n",
       "      <td>0.548263</td>\n",
       "      <td>0.521345</td>\n",
       "      <td>70.8405</td>\n",
       "      <td>39.638078</td>\n",
       "      <td>35.420250</td>\n",
       "      <td>...</td>\n",
       "      <td>0.0</td>\n",
       "      <td>0.0</td>\n",
       "      <td>0.0</td>\n",
       "      <td>0.0</td>\n",
       "      <td>0.0</td>\n",
       "      <td>0.0</td>\n",
       "      <td>0.0</td>\n",
       "      <td>0</td>\n",
       "      <td>0</td>\n",
       "      <td>0</td>\n",
       "    </tr>\n",
       "  </tbody>\n",
       "</table>\n",
       "<p>5 rows × 167 columns</p>\n",
       "</div>"
      ],
      "text/plain": [
       "   feature1   feature2   feature3   feature4   feature5  feature6  feature7  \\\n",
       "0         4  95.950150  87.221940  89.534122  81.423258  1.317590  1.301059   \n",
       "1         5  83.244760  59.224400  59.506081  36.126175  1.311510  1.372050   \n",
       "2         2  23.035850  26.647510  21.192566  25.010514  0.614232  0.435817   \n",
       "3         4  81.756699  79.833804  76.282833  75.275775  1.312596  1.149324   \n",
       "4         2  67.485250  69.699016  57.442709  59.574464  0.548263  0.521345   \n",
       "\n",
       "   feature8   feature9  feature10  ...   Ir   Pt   Au   Hg   Tl   Pb   Bi  Po  \\\n",
       "0   96.1190  20.285800  36.105357  ...  0.0  0.0  0.0  0.0  0.0  0.0  0.0   0   \n",
       "1  192.9810  25.192187  67.233835  ...  0.0  0.0  0.0  0.0  0.0  0.0  2.0   0   \n",
       "2   18.0583  18.243490   9.029150  ...  0.0  0.0  0.0  0.0  0.0  0.0  0.0   0   \n",
       "3   81.4820  28.789976  32.890369  ...  0.0  0.0  0.0  0.0  0.0  0.0  0.0   0   \n",
       "4   70.8405  39.638078  35.420250  ...  0.0  0.0  0.0  0.0  0.0  0.0  0.0   0   \n",
       "\n",
       "   At  Rn  \n",
       "0   0   0  \n",
       "1   0   0  \n",
       "2   0   0  \n",
       "3   0   0  \n",
       "4   0   0  \n",
       "\n",
       "[5 rows x 167 columns]"
      ]
     },
     "execution_count": 9,
     "metadata": {},
     "output_type": "execute_result"
    }
   ],
   "source": [
    "full_data = pd.concat([data_train.drop('critical_temperature', axis=1), data_test], axis=0)\n",
    "full_data.head(5)"
   ]
  },
  {
   "cell_type": "markdown",
   "metadata": {},
   "source": [
    "Всего получилось 167 признаков. Исследуем их на корреляцию и удалим признаки с корреляцией больше 0,9 по модулю."
   ]
  },
  {
   "cell_type": "code",
   "execution_count": 10,
   "metadata": {},
   "outputs": [],
   "source": [
    "def correlation(dataset, threshold):\n",
    "    col_corr = set() # Set of all the names of deleted columns\n",
    "    corr_matrix = dataset.corr()\n",
    "    for i in range(len(corr_matrix.columns)):\n",
    "        for j in range(i):\n",
    "            if (corr_matrix.iloc[i, j] >= threshold) and (corr_matrix.columns[j] not in col_corr):\n",
    "                colname = corr_matrix.columns[i] # getting the name of column\n",
    "                col_corr.add(colname)\n",
    "                if colname in dataset.columns:\n",
    "                    del dataset[colname] # deleting the column from the dataset\n",
    "\n",
    "    pd.DataFrame(dataset)\n",
    "    return pd.DataFrame(dataset)"
   ]
  },
  {
   "cell_type": "code",
   "execution_count": 11,
   "metadata": {},
   "outputs": [],
   "source": [
    "full_data = correlation(full_data, 0.9)"
   ]
  },
  {
   "cell_type": "code",
   "execution_count": 12,
   "metadata": {},
   "outputs": [],
   "source": [
    "standardized_data = preprocessing.scale(full_data)\n",
    "standardized_data = pd.DataFrame(standardized_data)"
   ]
  },
  {
   "cell_type": "markdown",
   "metadata": {},
   "source": [
    "Разделим выборки для обучения и предсказания"
   ]
  },
  {
   "cell_type": "code",
   "execution_count": 13,
   "metadata": {},
   "outputs": [],
   "source": [
    "x_train = standardized_data[0:17000]\n",
    "x_test = standardized_data[17000:]"
   ]
  },
  {
   "cell_type": "code",
   "execution_count": 14,
   "metadata": {},
   "outputs": [
    {
     "data": {
      "text/plain": [
       "0        21.500\n",
       "1        62.000\n",
       "2         0.290\n",
       "3        19.500\n",
       "4         5.360\n",
       "          ...  \n",
       "16995    35.000\n",
       "16996    89.000\n",
       "16997     0.584\n",
       "16998    45.000\n",
       "16999    13.500\n",
       "Name: critical_temperature, Length: 17000, dtype: float64"
      ]
     },
     "execution_count": 14,
     "metadata": {},
     "output_type": "execute_result"
    }
   ],
   "source": [
    "Y"
   ]
  },
  {
   "cell_type": "markdown",
   "metadata": {},
   "source": [
    "Построение модели"
   ]
  },
  {
   "cell_type": "code",
   "execution_count": 15,
   "metadata": {},
   "outputs": [],
   "source": [
    "X_train, X_val, y_train, y_val = train_test_split(x_train, Y,test_size = 0.33, random_state = 42)"
   ]
  },
  {
   "cell_type": "markdown",
   "metadata": {},
   "source": [
    "1. Линейная регрессия с регуляризацией ElasticNet"
   ]
  },
  {
   "cell_type": "code",
   "execution_count": 16,
   "metadata": {},
   "outputs": [
    {
     "data": {
      "text/plain": [
       "ElasticNet(alpha=0.5, l1_ratio=0.7, max_iter=10000000.0, random_state=42)"
      ]
     },
     "execution_count": 16,
     "metadata": {},
     "output_type": "execute_result"
    }
   ],
   "source": [
    "regr = ElasticNet(random_state=42,max_iter=1e7,alpha =0.5,l1_ratio =0.7 )\n",
    "regr.fit(X_train, y_train)"
   ]
  },
  {
   "cell_type": "code",
   "execution_count": 17,
   "metadata": {},
   "outputs": [],
   "source": [
    "test_pre2 = regr.predict(X_val)\n",
    "train_pre2 = regr.predict(X_train)"
   ]
  },
  {
   "cell_type": "code",
   "execution_count": 18,
   "metadata": {},
   "outputs": [
    {
     "name": "stdout",
     "output_type": "stream",
     "text": [
      "R2 on train = 0.707810810016673\n",
      "R2 on test = 0.7001087091503203\n"
     ]
    }
   ],
   "source": [
    "print('R2 on train =' , r2_score(y_train, train_pre2))\n",
    "print('R2 on test =' , r2_score(y_val, test_pre2))"
   ]
  },
  {
   "cell_type": "markdown",
   "metadata": {},
   "source": [
    "2. XGBRegressor"
   ]
  },
  {
   "cell_type": "code",
   "execution_count": 19,
   "metadata": {},
   "outputs": [],
   "source": [
    "model = XGBRegressor()"
   ]
  },
  {
   "cell_type": "code",
   "execution_count": 20,
   "metadata": {},
   "outputs": [],
   "source": [
    "params = {\n",
    "        'min_child_weight': [1, 3, 6],\n",
    "        'subsample': [0.5, 0.7, 1],\n",
    "        'colsample_bytree': [0.5, 0.7, 1],\n",
    "        'max_depth': [ 6, 8, 10],\n",
    "        'n_estimators': [ 100, 150, 200],\n",
    "        'learning_rate': [ 0.001, 0.01, 0.1, 0.2, 0.3],\n",
    "        'colsample_bylevel' : [0.5, 0.7, 1],\n",
    "        'colsample_bytree': [0.7, 1],\n",
    "        'gamma':[0,1,5,10]\n",
    "        }"
   ]
  },
  {
   "cell_type": "code",
   "execution_count": 21,
   "metadata": {},
   "outputs": [
    {
     "data": {
      "text/plain": [
       "RandomizedSearchCV(cv=5, estimator=XGBRegressor(), n_jobs=-1,\n",
       "                   param_distributions={'colsample_bylevel': [0.5, 0.7, 1],\n",
       "                                        'colsample_bytree': [0.7, 1],\n",
       "                                        'gamma': [0, 1, 5, 10],\n",
       "                                        'learning_rate': [0.001, 0.01, 0.1, 0.2,\n",
       "                                                          0.3],\n",
       "                                        'max_depth': [6, 8, 10],\n",
       "                                        'min_child_weight': [1, 3, 6],\n",
       "                                        'n_estimators': [100, 150, 200],\n",
       "                                        'subsample': [0.5, 0.7, 1]},\n",
       "                   verbose=3)"
      ]
     },
     "execution_count": 21,
     "metadata": {},
     "output_type": "execute_result"
    }
   ],
   "source": [
    "regr = RandomizedSearchCV(model, params, n_jobs=-1, cv=5, verbose=3, refit=True, \n",
    "                         n_iter=10)\n",
    "regr"
   ]
  },
  {
   "cell_type": "code",
   "execution_count": 22,
   "metadata": {},
   "outputs": [
    {
     "name": "stdout",
     "output_type": "stream",
     "text": [
      "Fitting 5 folds for each of 10 candidates, totalling 50 fits\n"
     ]
    },
    {
     "name": "stderr",
     "output_type": "stream",
     "text": [
      "[Parallel(n_jobs=-1)]: Using backend LokyBackend with 4 concurrent workers.\n",
      "[Parallel(n_jobs=-1)]: Done  24 tasks      | elapsed:   49.2s\n",
      "[Parallel(n_jobs=-1)]: Done  50 out of  50 | elapsed:  1.9min finished\n"
     ]
    },
    {
     "name": "stdout",
     "output_type": "stream",
     "text": [
      "[20:55:46] WARNING: src/objective/regression_obj.cu:152: reg:linear is now deprecated in favor of reg:squarederror.\n"
     ]
    },
    {
     "data": {
      "text/plain": [
       "RandomizedSearchCV(cv=5, estimator=XGBRegressor(), n_jobs=-1,\n",
       "                   param_distributions={'colsample_bylevel': [0.5, 0.7, 1],\n",
       "                                        'colsample_bytree': [0.7, 1],\n",
       "                                        'gamma': [0, 1, 5, 10],\n",
       "                                        'learning_rate': [0.001, 0.01, 0.1, 0.2,\n",
       "                                                          0.3],\n",
       "                                        'max_depth': [6, 8, 10],\n",
       "                                        'min_child_weight': [1, 3, 6],\n",
       "                                        'n_estimators': [100, 150, 200],\n",
       "                                        'subsample': [0.5, 0.7, 1]},\n",
       "                   verbose=3)"
      ]
     },
     "execution_count": 22,
     "metadata": {},
     "output_type": "execute_result"
    }
   ],
   "source": [
    "regr.fit(X_train, y_train)"
   ]
  },
  {
   "cell_type": "code",
   "execution_count": 23,
   "metadata": {},
   "outputs": [
    {
     "data": {
      "text/plain": [
       "XGBRegressor(colsample_bylevel=0.7, colsample_bytree=0.7, max_depth=10,\n",
       "             min_child_weight=3)"
      ]
     },
     "execution_count": 23,
     "metadata": {},
     "output_type": "execute_result"
    }
   ],
   "source": [
    "best_regr = regr.best_estimator_\n",
    "best_regr"
   ]
  },
  {
   "cell_type": "code",
   "execution_count": 24,
   "metadata": {},
   "outputs": [],
   "source": [
    "y_pred_train = best_regr.predict(X_train)\n",
    "y_pred = best_regr.predict(X_val)"
   ]
  },
  {
   "cell_type": "code",
   "execution_count": 25,
   "metadata": {},
   "outputs": [
    {
     "name": "stdout",
     "output_type": "stream",
     "text": [
      "R2 on train = 0.9779573391148921\n",
      "R2 on test = 0.9174564190047825\n"
     ]
    }
   ],
   "source": [
    "print('R2 on train =' , r2_score(y_train, y_pred_train))\n",
    "print('R2 on test =' , r2_score(y_val, y_pred))"
   ]
  },
  {
   "cell_type": "markdown",
   "metadata": {},
   "source": [
    "Получение итоговых результатов в нужном формате."
   ]
  },
  {
   "cell_type": "code",
   "execution_count": 26,
   "metadata": {},
   "outputs": [],
   "source": [
    "result = best_regr.predict(x_test)"
   ]
  },
  {
   "cell_type": "code",
   "execution_count": 27,
   "metadata": {},
   "outputs": [],
   "source": [
    "res = pd.DataFrame(result, index =None)"
   ]
  },
  {
   "cell_type": "code",
   "execution_count": 28,
   "metadata": {},
   "outputs": [
    {
     "data": {
      "text/html": [
       "<div>\n",
       "<style scoped>\n",
       "    .dataframe tbody tr th:only-of-type {\n",
       "        vertical-align: middle;\n",
       "    }\n",
       "\n",
       "    .dataframe tbody tr th {\n",
       "        vertical-align: top;\n",
       "    }\n",
       "\n",
       "    .dataframe thead th {\n",
       "        text-align: right;\n",
       "    }\n",
       "</style>\n",
       "<table border=\"1\" class=\"dataframe\">\n",
       "  <thead>\n",
       "    <tr style=\"text-align: right;\">\n",
       "      <th></th>\n",
       "      <th>0</th>\n",
       "    </tr>\n",
       "  </thead>\n",
       "  <tbody>\n",
       "    <tr>\n",
       "      <td>0</td>\n",
       "      <td>41.551167</td>\n",
       "    </tr>\n",
       "    <tr>\n",
       "      <td>1</td>\n",
       "      <td>3.298966</td>\n",
       "    </tr>\n",
       "    <tr>\n",
       "      <td>2</td>\n",
       "      <td>15.678526</td>\n",
       "    </tr>\n",
       "    <tr>\n",
       "      <td>3</td>\n",
       "      <td>86.005020</td>\n",
       "    </tr>\n",
       "    <tr>\n",
       "      <td>4</td>\n",
       "      <td>20.372606</td>\n",
       "    </tr>\n",
       "    <tr>\n",
       "      <td>...</td>\n",
       "      <td>...</td>\n",
       "    </tr>\n",
       "    <tr>\n",
       "      <td>4258</td>\n",
       "      <td>2.059228</td>\n",
       "    </tr>\n",
       "    <tr>\n",
       "      <td>4259</td>\n",
       "      <td>84.879326</td>\n",
       "    </tr>\n",
       "    <tr>\n",
       "      <td>4260</td>\n",
       "      <td>33.915958</td>\n",
       "    </tr>\n",
       "    <tr>\n",
       "      <td>4261</td>\n",
       "      <td>27.532667</td>\n",
       "    </tr>\n",
       "    <tr>\n",
       "      <td>4262</td>\n",
       "      <td>6.168579</td>\n",
       "    </tr>\n",
       "  </tbody>\n",
       "</table>\n",
       "<p>4263 rows × 1 columns</p>\n",
       "</div>"
      ],
      "text/plain": [
       "              0\n",
       "0     41.551167\n",
       "1      3.298966\n",
       "2     15.678526\n",
       "3     86.005020\n",
       "4     20.372606\n",
       "...         ...\n",
       "4258   2.059228\n",
       "4259  84.879326\n",
       "4260  33.915958\n",
       "4261  27.532667\n",
       "4262   6.168579\n",
       "\n",
       "[4263 rows x 1 columns]"
      ]
     },
     "execution_count": 28,
     "metadata": {},
     "output_type": "execute_result"
    }
   ],
   "source": [
    "res"
   ]
  },
  {
   "cell_type": "code",
   "execution_count": null,
   "metadata": {},
   "outputs": [],
   "source": [
    "res.to_csv('answer.csv',index=False)"
   ]
  }
 ],
 "metadata": {
  "kernelspec": {
   "display_name": "Python 3",
   "language": "python",
   "name": "python3"
  },
  "language_info": {
   "codemirror_mode": {
    "name": "ipython",
    "version": 3
   },
   "file_extension": ".py",
   "mimetype": "text/x-python",
   "name": "python",
   "nbconvert_exporter": "python",
   "pygments_lexer": "ipython3",
   "version": "3.7.4"
  }
 },
 "nbformat": 4,
 "nbformat_minor": 2
}
